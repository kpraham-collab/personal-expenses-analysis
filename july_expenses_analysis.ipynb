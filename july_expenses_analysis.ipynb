{
 "cells": [
  {
   "cell_type": "markdown",
   "id": "5b0f3e65",
   "metadata": {},
   "source": [
    "## Importing the modules"
   ]
  },
  {
   "cell_type": "code",
   "execution_count": 1,
   "id": "25dedd33",
   "metadata": {},
   "outputs": [],
   "source": [
    "import pandas as pd\n",
    "import numpy as np\n"
   ]
  },
  {
   "cell_type": "markdown",
   "id": "db2fe091",
   "metadata": {},
   "source": [
    "## Loading & Reading the data"
   ]
  },
  {
   "cell_type": "code",
   "execution_count": null,
   "id": "ef658b47",
   "metadata": {},
   "outputs": [
    {
     "data": {
      "text/html": [
       "<div>\n",
       "<style scoped>\n",
       "    .dataframe tbody tr th:only-of-type {\n",
       "        vertical-align: middle;\n",
       "    }\n",
       "\n",
       "    .dataframe tbody tr th {\n",
       "        vertical-align: top;\n",
       "    }\n",
       "\n",
       "    .dataframe thead th {\n",
       "        text-align: right;\n",
       "    }\n",
       "</style>\n",
       "<table border=\"1\" class=\"dataframe\">\n",
       "  <thead>\n",
       "    <tr style=\"text-align: right;\">\n",
       "      <th></th>\n",
       "      <th>Period</th>\n",
       "      <th>Accounts</th>\n",
       "      <th>Category</th>\n",
       "      <th>Subcategory</th>\n",
       "      <th>Note</th>\n",
       "      <th>INR</th>\n",
       "      <th>Income/Expense</th>\n",
       "      <th>Description</th>\n",
       "      <th>Amount</th>\n",
       "      <th>Currency</th>\n",
       "      <th>Accounts.1</th>\n",
       "    </tr>\n",
       "  </thead>\n",
       "  <tbody>\n",
       "    <tr>\n",
       "      <th>0</th>\n",
       "      <td>31-07-2025</td>\n",
       "      <td>Bank Accounts</td>\n",
       "      <td>Lifestyle</td>\n",
       "      <td>NaN</td>\n",
       "      <td>AC recharge</td>\n",
       "      <td>50.0</td>\n",
       "      <td>Exp.</td>\n",
       "      <td>NaN</td>\n",
       "      <td>50.0</td>\n",
       "      <td>INR</td>\n",
       "      <td>50.0</td>\n",
       "    </tr>\n",
       "    <tr>\n",
       "      <th>1</th>\n",
       "      <td>31-07-2025</td>\n",
       "      <td>Bank Accounts</td>\n",
       "      <td>🍜 Food</td>\n",
       "      <td>NaN</td>\n",
       "      <td>Chai &amp; biscuit ( ₹15 chai + ₹5 parle-g biscuit)</td>\n",
       "      <td>20.0</td>\n",
       "      <td>Exp.</td>\n",
       "      <td>NaN</td>\n",
       "      <td>20.0</td>\n",
       "      <td>INR</td>\n",
       "      <td>20.0</td>\n",
       "    </tr>\n",
       "    <tr>\n",
       "      <th>2</th>\n",
       "      <td>29-07-2025</td>\n",
       "      <td>Cash</td>\n",
       "      <td>🍜 Food</td>\n",
       "      <td>NaN</td>\n",
       "      <td>Chai &amp; biscuit ( ₹15 chai + ₹5 parle-g biscuit)</td>\n",
       "      <td>20.0</td>\n",
       "      <td>Exp.</td>\n",
       "      <td>NaN</td>\n",
       "      <td>20.0</td>\n",
       "      <td>INR</td>\n",
       "      <td>20.0</td>\n",
       "    </tr>\n",
       "    <tr>\n",
       "      <th>3</th>\n",
       "      <td>29-07-2025</td>\n",
       "      <td>Cash</td>\n",
       "      <td>🍜 Food</td>\n",
       "      <td>NaN</td>\n",
       "      <td>Maggi of ₹30 (₹60 / 2 me and Anshu), French fr...</td>\n",
       "      <td>150.0</td>\n",
       "      <td>Exp.</td>\n",
       "      <td>NaN</td>\n",
       "      <td>150.0</td>\n",
       "      <td>INR</td>\n",
       "      <td>150.0</td>\n",
       "    </tr>\n",
       "    <tr>\n",
       "      <th>4</th>\n",
       "      <td>29-07-2025</td>\n",
       "      <td>Cash</td>\n",
       "      <td>🍜 Food</td>\n",
       "      <td>NaN</td>\n",
       "      <td>Chinese samosa in canteen</td>\n",
       "      <td>15.0</td>\n",
       "      <td>Exp.</td>\n",
       "      <td>NaN</td>\n",
       "      <td>15.0</td>\n",
       "      <td>INR</td>\n",
       "      <td>15.0</td>\n",
       "    </tr>\n",
       "    <tr>\n",
       "      <th>...</th>\n",
       "      <td>...</td>\n",
       "      <td>...</td>\n",
       "      <td>...</td>\n",
       "      <td>...</td>\n",
       "      <td>...</td>\n",
       "      <td>...</td>\n",
       "      <td>...</td>\n",
       "      <td>...</td>\n",
       "      <td>...</td>\n",
       "      <td>...</td>\n",
       "      <td>...</td>\n",
       "    </tr>\n",
       "    <tr>\n",
       "      <th>67</th>\n",
       "      <td>06-07-2025</td>\n",
       "      <td>Cash</td>\n",
       "      <td>Other</td>\n",
       "      <td>NaN</td>\n",
       "      <td>150 of small tool , let’s see if we ask it fro...</td>\n",
       "      <td>150.0</td>\n",
       "      <td>Exp.</td>\n",
       "      <td>NaN</td>\n",
       "      <td>150.0</td>\n",
       "      <td>INR</td>\n",
       "      <td>150.0</td>\n",
       "    </tr>\n",
       "    <tr>\n",
       "      <th>68</th>\n",
       "      <td>06-07-2025</td>\n",
       "      <td>Bank Accounts</td>\n",
       "      <td>🍜 Food</td>\n",
       "      <td>NaN</td>\n",
       "      <td>Doritos chips</td>\n",
       "      <td>20.0</td>\n",
       "      <td>Exp.</td>\n",
       "      <td>NaN</td>\n",
       "      <td>20.0</td>\n",
       "      <td>INR</td>\n",
       "      <td>20.0</td>\n",
       "    </tr>\n",
       "    <tr>\n",
       "      <th>69</th>\n",
       "      <td>03-07-2025</td>\n",
       "      <td>Cash</td>\n",
       "      <td>👬🏻 Social Life</td>\n",
       "      <td>NaN</td>\n",
       "      <td>Cafe adda with prachi</td>\n",
       "      <td>400.0</td>\n",
       "      <td>Exp.</td>\n",
       "      <td>NaN</td>\n",
       "      <td>400.0</td>\n",
       "      <td>INR</td>\n",
       "      <td>400.0</td>\n",
       "    </tr>\n",
       "    <tr>\n",
       "      <th>70</th>\n",
       "      <td>02-07-2025</td>\n",
       "      <td>Cash</td>\n",
       "      <td>👬🏻 Social Life</td>\n",
       "      <td>NaN</td>\n",
       "      <td>₹30 papdi chaat, ₹30 of ₹20 appy (₹10x2)  and ...</td>\n",
       "      <td>60.0</td>\n",
       "      <td>Exp.</td>\n",
       "      <td>Gave party to Manak and Hemant</td>\n",
       "      <td>60.0</td>\n",
       "      <td>INR</td>\n",
       "      <td>60.0</td>\n",
       "    </tr>\n",
       "    <tr>\n",
       "      <th>71</th>\n",
       "      <td>01-07-2025</td>\n",
       "      <td>Bank Accounts</td>\n",
       "      <td>🎁 Gift</td>\n",
       "      <td>NaN</td>\n",
       "      <td>NaN</td>\n",
       "      <td>1.0</td>\n",
       "      <td>Exp.</td>\n",
       "      <td>Abhishek account check</td>\n",
       "      <td>1.0</td>\n",
       "      <td>INR</td>\n",
       "      <td>1.0</td>\n",
       "    </tr>\n",
       "  </tbody>\n",
       "</table>\n",
       "<p>72 rows × 11 columns</p>\n",
       "</div>"
      ],
      "text/plain": [
       "        Period       Accounts        Category  Subcategory  \\\n",
       "0   31-07-2025  Bank Accounts       Lifestyle          NaN   \n",
       "1   31-07-2025  Bank Accounts          🍜 Food          NaN   \n",
       "2   29-07-2025           Cash          🍜 Food          NaN   \n",
       "3   29-07-2025           Cash          🍜 Food          NaN   \n",
       "4   29-07-2025           Cash          🍜 Food          NaN   \n",
       "..         ...            ...             ...          ...   \n",
       "67  06-07-2025           Cash           Other          NaN   \n",
       "68  06-07-2025  Bank Accounts          🍜 Food          NaN   \n",
       "69  03-07-2025           Cash  👬🏻 Social Life          NaN   \n",
       "70  02-07-2025           Cash  👬🏻 Social Life          NaN   \n",
       "71  01-07-2025  Bank Accounts          🎁 Gift          NaN   \n",
       "\n",
       "                                                 Note    INR Income/Expense  \\\n",
       "0                                         AC recharge   50.0           Exp.   \n",
       "1     Chai & biscuit ( ₹15 chai + ₹5 parle-g biscuit)   20.0           Exp.   \n",
       "2     Chai & biscuit ( ₹15 chai + ₹5 parle-g biscuit)   20.0           Exp.   \n",
       "3   Maggi of ₹30 (₹60 / 2 me and Anshu), French fr...  150.0           Exp.   \n",
       "4                           Chinese samosa in canteen   15.0           Exp.   \n",
       "..                                                ...    ...            ...   \n",
       "67  150 of small tool , let’s see if we ask it fro...  150.0           Exp.   \n",
       "68                                      Doritos chips   20.0           Exp.   \n",
       "69                              Cafe adda with prachi  400.0           Exp.   \n",
       "70  ₹30 papdi chaat, ₹30 of ₹20 appy (₹10x2)  and ...   60.0           Exp.   \n",
       "71                                                NaN    1.0           Exp.   \n",
       "\n",
       "                       Description  Amount Currency  Accounts.1  \n",
       "0                              NaN    50.0      INR        50.0  \n",
       "1                              NaN    20.0      INR        20.0  \n",
       "2                              NaN    20.0      INR        20.0  \n",
       "3                              NaN   150.0      INR       150.0  \n",
       "4                              NaN    15.0      INR        15.0  \n",
       "..                             ...     ...      ...         ...  \n",
       "67                             NaN   150.0      INR       150.0  \n",
       "68                             NaN    20.0      INR        20.0  \n",
       "69                             NaN   400.0      INR       400.0  \n",
       "70  Gave party to Manak and Hemant    60.0      INR        60.0  \n",
       "71          Abhishek account check     1.0      INR         1.0  \n",
       "\n",
       "[72 rows x 11 columns]"
      ]
     },
     "execution_count": 8,
     "metadata": {},
     "output_type": "execute_result"
    }
   ],
   "source": [
    "df = pd.read_csv('july_expenses.csv')\n",
    "df.head()"
   ]
  },
  {
   "cell_type": "markdown",
   "id": "e6fa9a9e",
   "metadata": {},
   "source": [
    "## Calculating Total Expenses"
   ]
  },
  {
   "cell_type": "code",
   "execution_count": null,
   "id": "edbc4c14",
   "metadata": {},
   "outputs": [
    {
     "name": "stdout",
     "output_type": "stream",
     "text": [
      "Total expenses:  5823.1\n"
     ]
    }
   ],
   "source": [
    "expenses_only = df[df[\"Income/Expense\"] == \"Exp.\"]\n",
    "# print(expenses_only) #  New DF is created which only includes expenses data means data which has exp.\n",
    "\n",
    "\n",
    "total_expenses = expenses_only[\"INR\"].sum()\n",
    "print(\"Total expenses: \", total_expenses)"
   ]
  },
  {
   "cell_type": "markdown",
   "id": "adf4cbca",
   "metadata": {},
   "source": [
    "## Average Expense or Mean of Expenses"
   ]
  },
  {
   "cell_type": "code",
   "execution_count": 17,
   "id": "cad7c839",
   "metadata": {},
   "outputs": [
    {
     "name": "stdout",
     "output_type": "stream",
     "text": [
      "Average expense:  83.18714285714286\n"
     ]
    }
   ],
   "source": [
    "average_expense = expenses_only[\"INR\"].mean()\n",
    "print(\"Average expense: \", average_expense)"
   ]
  },
  {
   "cell_type": "markdown",
   "id": "b64bb858",
   "metadata": {},
   "source": [
    "## Median Expense"
   ]
  },
  {
   "cell_type": "code",
   "execution_count": 19,
   "id": "eb73eaf9",
   "metadata": {},
   "outputs": [
    {
     "name": "stdout",
     "output_type": "stream",
     "text": [
      "Median expense:  28.0\n"
     ]
    }
   ],
   "source": [
    "median_expense = expenses_only['INR'].median()\n",
    "print(\"Median expense: \", median_expense)"
   ]
  },
  {
   "cell_type": "markdown",
   "id": "3cad74f0",
   "metadata": {},
   "source": [
    "## Minimum Expense"
   ]
  },
  {
   "cell_type": "code",
   "execution_count": 21,
   "id": "b70c7b53",
   "metadata": {},
   "outputs": [
    {
     "name": "stdout",
     "output_type": "stream",
     "text": [
      "Minimum expense:  1.0\n"
     ]
    }
   ],
   "source": [
    "minimum_expense = expenses_only['INR'].min()\n",
    "print(\"Minimum expense: \", minimum_expense)"
   ]
  },
  {
   "cell_type": "markdown",
   "id": "645793b6",
   "metadata": {},
   "source": [
    "## Maximum Expense"
   ]
  },
  {
   "cell_type": "code",
   "execution_count": 22,
   "id": "3a459255",
   "metadata": {},
   "outputs": [
    {
     "name": "stdout",
     "output_type": "stream",
     "text": [
      "Maximum expense:  1200.0\n"
     ]
    }
   ],
   "source": [
    "maximum_expense = expenses_only['INR'].max()\n",
    "print(\"Maximum expense: \", maximum_expense)"
   ]
  },
  {
   "cell_type": "code",
   "execution_count": null,
   "id": "c1f9f60f",
   "metadata": {},
   "outputs": [],
   "source": []
  }
 ],
 "metadata": {
  "kernelspec": {
   "display_name": "Python 3",
   "language": "python",
   "name": "python3"
  },
  "language_info": {
   "codemirror_mode": {
    "name": "ipython",
    "version": 3
   },
   "file_extension": ".py",
   "mimetype": "text/x-python",
   "name": "python",
   "nbconvert_exporter": "python",
   "pygments_lexer": "ipython3",
   "version": "3.13.5"
  }
 },
 "nbformat": 4,
 "nbformat_minor": 5
}
