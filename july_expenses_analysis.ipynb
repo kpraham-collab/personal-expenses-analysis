{
 "cells": [
  {
   "cell_type": "markdown",
   "id": "2f0bc9bd",
   "metadata": {},
   "source": [
    "# This is a notebook created on 03/09/2025\n"
   ]
  },
  {
   "cell_type": "markdown",
   "id": "5b0f3e65",
   "metadata": {},
   "source": [
    "## Importing the modules"
   ]
  },
  {
   "cell_type": "code",
   "execution_count": 28,
   "id": "25dedd33",
   "metadata": {},
   "outputs": [],
   "source": [
    "import pandas as pd\n",
    "import numpy as np\n",
    "import matplotlib.pyplot as plt"
   ]
  },
  {
   "cell_type": "markdown",
   "id": "db2fe091",
   "metadata": {},
   "source": [
    "## Loading & Reading the data"
   ]
  },
  {
   "cell_type": "code",
   "execution_count": 3,
   "id": "ef658b47",
   "metadata": {},
   "outputs": [
    {
     "data": {
      "text/html": [
       "<div>\n",
       "<style scoped>\n",
       "    .dataframe tbody tr th:only-of-type {\n",
       "        vertical-align: middle;\n",
       "    }\n",
       "\n",
       "    .dataframe tbody tr th {\n",
       "        vertical-align: top;\n",
       "    }\n",
       "\n",
       "    .dataframe thead th {\n",
       "        text-align: right;\n",
       "    }\n",
       "</style>\n",
       "<table border=\"1\" class=\"dataframe\">\n",
       "  <thead>\n",
       "    <tr style=\"text-align: right;\">\n",
       "      <th></th>\n",
       "      <th>Period</th>\n",
       "      <th>Accounts</th>\n",
       "      <th>Category</th>\n",
       "      <th>Subcategory</th>\n",
       "      <th>Note</th>\n",
       "      <th>INR</th>\n",
       "      <th>Income/Expense</th>\n",
       "      <th>Description</th>\n",
       "      <th>Amount</th>\n",
       "      <th>Currency</th>\n",
       "      <th>Accounts.1</th>\n",
       "    </tr>\n",
       "  </thead>\n",
       "  <tbody>\n",
       "    <tr>\n",
       "      <th>0</th>\n",
       "      <td>31-07-2025</td>\n",
       "      <td>Bank Accounts</td>\n",
       "      <td>Lifestyle</td>\n",
       "      <td>NaN</td>\n",
       "      <td>AC recharge</td>\n",
       "      <td>50.0</td>\n",
       "      <td>Exp.</td>\n",
       "      <td>NaN</td>\n",
       "      <td>50.0</td>\n",
       "      <td>INR</td>\n",
       "      <td>50.0</td>\n",
       "    </tr>\n",
       "    <tr>\n",
       "      <th>1</th>\n",
       "      <td>31-07-2025</td>\n",
       "      <td>Bank Accounts</td>\n",
       "      <td>🍜 Food</td>\n",
       "      <td>NaN</td>\n",
       "      <td>Chai &amp; biscuit ( ₹15 chai + ₹5 parle-g biscuit)</td>\n",
       "      <td>20.0</td>\n",
       "      <td>Exp.</td>\n",
       "      <td>NaN</td>\n",
       "      <td>20.0</td>\n",
       "      <td>INR</td>\n",
       "      <td>20.0</td>\n",
       "    </tr>\n",
       "    <tr>\n",
       "      <th>2</th>\n",
       "      <td>29-07-2025</td>\n",
       "      <td>Cash</td>\n",
       "      <td>🍜 Food</td>\n",
       "      <td>NaN</td>\n",
       "      <td>Chai &amp; biscuit ( ₹15 chai + ₹5 parle-g biscuit)</td>\n",
       "      <td>20.0</td>\n",
       "      <td>Exp.</td>\n",
       "      <td>NaN</td>\n",
       "      <td>20.0</td>\n",
       "      <td>INR</td>\n",
       "      <td>20.0</td>\n",
       "    </tr>\n",
       "    <tr>\n",
       "      <th>3</th>\n",
       "      <td>29-07-2025</td>\n",
       "      <td>Cash</td>\n",
       "      <td>🍜 Food</td>\n",
       "      <td>NaN</td>\n",
       "      <td>Maggi of ₹30 (₹60 / 2 me and Anshu), French fr...</td>\n",
       "      <td>150.0</td>\n",
       "      <td>Exp.</td>\n",
       "      <td>NaN</td>\n",
       "      <td>150.0</td>\n",
       "      <td>INR</td>\n",
       "      <td>150.0</td>\n",
       "    </tr>\n",
       "    <tr>\n",
       "      <th>4</th>\n",
       "      <td>29-07-2025</td>\n",
       "      <td>Cash</td>\n",
       "      <td>🍜 Food</td>\n",
       "      <td>NaN</td>\n",
       "      <td>Chinese samosa in canteen</td>\n",
       "      <td>15.0</td>\n",
       "      <td>Exp.</td>\n",
       "      <td>NaN</td>\n",
       "      <td>15.0</td>\n",
       "      <td>INR</td>\n",
       "      <td>15.0</td>\n",
       "    </tr>\n",
       "  </tbody>\n",
       "</table>\n",
       "</div>"
      ],
      "text/plain": [
       "       Period       Accounts   Category  Subcategory  \\\n",
       "0  31-07-2025  Bank Accounts  Lifestyle          NaN   \n",
       "1  31-07-2025  Bank Accounts     🍜 Food          NaN   \n",
       "2  29-07-2025           Cash     🍜 Food          NaN   \n",
       "3  29-07-2025           Cash     🍜 Food          NaN   \n",
       "4  29-07-2025           Cash     🍜 Food          NaN   \n",
       "\n",
       "                                                Note    INR Income/Expense  \\\n",
       "0                                        AC recharge   50.0           Exp.   \n",
       "1    Chai & biscuit ( ₹15 chai + ₹5 parle-g biscuit)   20.0           Exp.   \n",
       "2    Chai & biscuit ( ₹15 chai + ₹5 parle-g biscuit)   20.0           Exp.   \n",
       "3  Maggi of ₹30 (₹60 / 2 me and Anshu), French fr...  150.0           Exp.   \n",
       "4                          Chinese samosa in canteen   15.0           Exp.   \n",
       "\n",
       "  Description  Amount Currency  Accounts.1  \n",
       "0         NaN    50.0      INR        50.0  \n",
       "1         NaN    20.0      INR        20.0  \n",
       "2         NaN    20.0      INR        20.0  \n",
       "3         NaN   150.0      INR       150.0  \n",
       "4         NaN    15.0      INR        15.0  "
      ]
     },
     "execution_count": 3,
     "metadata": {},
     "output_type": "execute_result"
    }
   ],
   "source": [
    "df = pd.read_csv('july_expenses.csv')\n",
    "df.head()"
   ]
  },
  {
   "cell_type": "markdown",
   "id": "e6fa9a9e",
   "metadata": {},
   "source": [
    "## Calculating Total Expenses"
   ]
  },
  {
   "cell_type": "code",
   "execution_count": 52,
   "id": "edbc4c14",
   "metadata": {},
   "outputs": [
    {
     "name": "stdout",
     "output_type": "stream",
     "text": [
      "Total expenses:  5823.1\n"
     ]
    }
   ],
   "source": [
    "expenses_only = df[df[\"Income/Expense\"] == \"Exp.\"]\n",
    "# print(expenses_only) #  New DF is created which only includes expenses data means data which has exp.\n",
    "\n",
    "\n",
    "total_expenses = expenses_only[\"INR\"].sum()\n",
    "print(\"Total expenses: \", total_expenses)"
   ]
  },
  {
   "cell_type": "markdown",
   "id": "adf4cbca",
   "metadata": {},
   "source": [
    "## Average Expense or Mean of Expenses"
   ]
  },
  {
   "cell_type": "code",
   "execution_count": 53,
   "id": "cad7c839",
   "metadata": {},
   "outputs": [
    {
     "name": "stdout",
     "output_type": "stream",
     "text": [
      "Average expense:  83.18714285714286\n"
     ]
    }
   ],
   "source": [
    "average_expense = expenses_only[\"INR\"].mean()\n",
    "print(\"Average expense: \", average_expense)"
   ]
  },
  {
   "cell_type": "markdown",
   "id": "b64bb858",
   "metadata": {},
   "source": [
    "## Median Expense"
   ]
  },
  {
   "cell_type": "code",
   "execution_count": 54,
   "id": "eb73eaf9",
   "metadata": {},
   "outputs": [
    {
     "name": "stdout",
     "output_type": "stream",
     "text": [
      "Median expense:  28.0\n"
     ]
    }
   ],
   "source": [
    "median_expense = expenses_only['INR'].median()\n",
    "print(\"Median expense: \", median_expense)"
   ]
  },
  {
   "cell_type": "markdown",
   "id": "3cad74f0",
   "metadata": {},
   "source": [
    "## Minimum Expense"
   ]
  },
  {
   "cell_type": "code",
   "execution_count": 55,
   "id": "b70c7b53",
   "metadata": {},
   "outputs": [
    {
     "name": "stdout",
     "output_type": "stream",
     "text": [
      "Minimum expense:  1.0\n"
     ]
    }
   ],
   "source": [
    "minimum_expense = expenses_only['INR'].min()\n",
    "print(\"Minimum expense: \", minimum_expense)"
   ]
  },
  {
   "cell_type": "markdown",
   "id": "645793b6",
   "metadata": {},
   "source": [
    "## Maximum Expense"
   ]
  },
  {
   "cell_type": "code",
   "execution_count": 56,
   "id": "3a459255",
   "metadata": {},
   "outputs": [
    {
     "name": "stdout",
     "output_type": "stream",
     "text": [
      "Maximum expense:  1200.0\n"
     ]
    }
   ],
   "source": [
    "maximum_expense = expenses_only['INR'].max()\n",
    "print(\"Maximum expense: \", maximum_expense)"
   ]
  },
  {
   "cell_type": "markdown",
   "id": "67b2bf30",
   "metadata": {},
   "source": [
    "---"
   ]
  },
  {
   "cell_type": "markdown",
   "id": "1b7b11a1",
   "metadata": {},
   "source": [
    "## Expenses by Social Life Category\n"
   ]
  },
  {
   "cell_type": "code",
   "execution_count": 57,
   "id": "1ef638ef",
   "metadata": {},
   "outputs": [
    {
     "data": {
      "text/html": [
       "<div>\n",
       "<style scoped>\n",
       "    .dataframe tbody tr th:only-of-type {\n",
       "        vertical-align: middle;\n",
       "    }\n",
       "\n",
       "    .dataframe tbody tr th {\n",
       "        vertical-align: top;\n",
       "    }\n",
       "\n",
       "    .dataframe thead th {\n",
       "        text-align: right;\n",
       "    }\n",
       "</style>\n",
       "<table border=\"1\" class=\"dataframe\">\n",
       "  <thead>\n",
       "    <tr style=\"text-align: right;\">\n",
       "      <th></th>\n",
       "      <th>Period</th>\n",
       "      <th>Accounts</th>\n",
       "      <th>Category</th>\n",
       "      <th>Subcategory</th>\n",
       "      <th>Note</th>\n",
       "      <th>INR</th>\n",
       "      <th>Income/Expense</th>\n",
       "      <th>Description</th>\n",
       "      <th>Amount</th>\n",
       "      <th>Currency</th>\n",
       "      <th>Accounts.1</th>\n",
       "    </tr>\n",
       "  </thead>\n",
       "  <tbody>\n",
       "    <tr>\n",
       "      <th>69</th>\n",
       "      <td>03-07-2025</td>\n",
       "      <td>Cash</td>\n",
       "      <td>👬🏻 Social Life</td>\n",
       "      <td>NaN</td>\n",
       "      <td>Cafe adda with prachi</td>\n",
       "      <td>400.0</td>\n",
       "      <td>Exp.</td>\n",
       "      <td>NaN</td>\n",
       "      <td>400.0</td>\n",
       "      <td>INR</td>\n",
       "      <td>400.0</td>\n",
       "    </tr>\n",
       "    <tr>\n",
       "      <th>70</th>\n",
       "      <td>02-07-2025</td>\n",
       "      <td>Cash</td>\n",
       "      <td>👬🏻 Social Life</td>\n",
       "      <td>NaN</td>\n",
       "      <td>₹30 papdi chaat, ₹30 of ₹20 appy (₹10x2)  and ...</td>\n",
       "      <td>60.0</td>\n",
       "      <td>Exp.</td>\n",
       "      <td>Gave party to Manak and Hemant</td>\n",
       "      <td>60.0</td>\n",
       "      <td>INR</td>\n",
       "      <td>60.0</td>\n",
       "    </tr>\n",
       "  </tbody>\n",
       "</table>\n",
       "</div>"
      ],
      "text/plain": [
       "        Period Accounts        Category  Subcategory  \\\n",
       "69  03-07-2025     Cash  👬🏻 Social Life          NaN   \n",
       "70  02-07-2025     Cash  👬🏻 Social Life          NaN   \n",
       "\n",
       "                                                 Note    INR Income/Expense  \\\n",
       "69                              Cafe adda with prachi  400.0           Exp.   \n",
       "70  ₹30 papdi chaat, ₹30 of ₹20 appy (₹10x2)  and ...   60.0           Exp.   \n",
       "\n",
       "                       Description  Amount Currency  Accounts.1  \n",
       "69                             NaN   400.0      INR       400.0  \n",
       "70  Gave party to Manak and Hemant    60.0      INR        60.0  "
      ]
     },
     "execution_count": 57,
     "metadata": {},
     "output_type": "execute_result"
    }
   ],
   "source": [
    "category_Social_life = df[df['Category']=='👬🏻 Social Life']\n",
    "category_Social_life"
   ]
  },
  {
   "cell_type": "markdown",
   "id": "aa43632b",
   "metadata": {},
   "source": [
    "## Total expenses of category - Social Life"
   ]
  },
  {
   "cell_type": "code",
   "execution_count": 9,
   "id": "6c2b5739",
   "metadata": {},
   "outputs": [
    {
     "name": "stdout",
     "output_type": "stream",
     "text": [
      "Total expense in Social Life category:  460.0\n"
     ]
    }
   ],
   "source": [
    "total_social_life_expense = category_Social_life['Amount'].sum()\n",
    "print(\"Total expense in Social Life category: \", total_social_life_expense)"
   ]
  },
  {
   "cell_type": "markdown",
   "id": "cf0b4e84",
   "metadata": {},
   "source": [
    "## Mean of expenses by Social Life category\n"
   ]
  },
  {
   "cell_type": "code",
   "execution_count": 8,
   "id": "f61fd797",
   "metadata": {},
   "outputs": [
    {
     "name": "stdout",
     "output_type": "stream",
     "text": [
      "Average expense in Social Life category:  230.0\n"
     ]
    }
   ],
   "source": [
    "avg_category_expense = category_Social_life['Amount'].mean()\n",
    "print(\"Average expense in Social Life category: \", avg_category_expense)"
   ]
  },
  {
   "cell_type": "markdown",
   "id": "89c82f9c",
   "metadata": {},
   "source": [
    "## Expenses by Food Category\n"
   ]
  },
  {
   "cell_type": "code",
   "execution_count": 13,
   "id": "4de91636",
   "metadata": {},
   "outputs": [],
   "source": [
    "category_Food = df[df['Category']=='🍜 Food']\n",
    "# category_Food"
   ]
  },
  {
   "cell_type": "markdown",
   "id": "0470321c",
   "metadata": {},
   "source": [
    "## Total expenses of category - Food"
   ]
  },
  {
   "cell_type": "code",
   "execution_count": 12,
   "id": "c6c52b42",
   "metadata": {},
   "outputs": [
    {
     "name": "stdout",
     "output_type": "stream",
     "text": [
      "Total expense in Food category:  1535.0\n"
     ]
    }
   ],
   "source": [
    "total_food_expenses = category_Food['Amount'].sum()\n",
    "print(\"Total expense in Food category: \", total_food_expenses)\n"
   ]
  },
  {
   "cell_type": "markdown",
   "id": "fcc9f74e",
   "metadata": {},
   "source": [
    "## Mean of expenses by Food category\n"
   ]
  },
  {
   "cell_type": "code",
   "execution_count": 14,
   "id": "4dc2864b",
   "metadata": {},
   "outputs": [
    {
     "name": "stdout",
     "output_type": "stream",
     "text": [
      "Average expense in Food category:  45.14705882352941\n"
     ]
    }
   ],
   "source": [
    "avg_Food_expense = category_Food['Amount'].mean()\n",
    "print(\"Average expense in Food category: \", avg_Food_expense)"
   ]
  },
  {
   "cell_type": "markdown",
   "id": "2002d1b0",
   "metadata": {},
   "source": [
    "## Expenses by Lifestyle Category\n"
   ]
  },
  {
   "cell_type": "code",
   "execution_count": 18,
   "id": "37e56d79",
   "metadata": {},
   "outputs": [],
   "source": [
    "category_Lifestyle = df[df['Category']=='Lifestyle']\n",
    "# category_Lifestyle"
   ]
  },
  {
   "cell_type": "markdown",
   "id": "8cc972f9",
   "metadata": {},
   "source": [
    "## Total expenses of category - Lifestyle"
   ]
  },
  {
   "cell_type": "code",
   "execution_count": 19,
   "id": "1f0be09a",
   "metadata": {},
   "outputs": [
    {
     "name": "stdout",
     "output_type": "stream",
     "text": [
      "Total expense in Lifestyle category:  545.1\n"
     ]
    }
   ],
   "source": [
    "total_lifestyle_expenses = category_Lifestyle['Amount'].sum()\n",
    "print(\"Total expense in Lifestyle category: \", total_lifestyle_expenses)\n"
   ]
  },
  {
   "cell_type": "markdown",
   "id": "36a6202a",
   "metadata": {},
   "source": [
    "## Mean of expenses by Lifestyle category\n"
   ]
  },
  {
   "cell_type": "code",
   "execution_count": 20,
   "id": "d7e7e36c",
   "metadata": {},
   "outputs": [
    {
     "name": "stdout",
     "output_type": "stream",
     "text": [
      "Average expense in Lifestyle category:  60.56666666666667\n"
     ]
    }
   ],
   "source": [
    "avg_Lifestyle_expenses = category_Lifestyle['Amount'].mean()\n",
    "print(\"Average expense in Lifestyle category: \", avg_Lifestyle_expenses)"
   ]
  },
  {
   "cell_type": "markdown",
   "id": "75683b39",
   "metadata": {},
   "source": [
    "## Expenses on AC in Lifestyle Category\n"
   ]
  },
  {
   "cell_type": "code",
   "execution_count": 22,
   "id": "a77c43bc",
   "metadata": {},
   "outputs": [],
   "source": [
    "category_Lifestyle = df[df['Category']=='Lifestyle']\n",
    "# category_Lifestyle\n",
    "\n",
    "AC_recharge_expenses = category_Lifestyle[category_Lifestyle['Note'].str.contains('AC',case=False, na=False)]\n",
    "# AC_recharge_expenses"
   ]
  },
  {
   "cell_type": "markdown",
   "id": "09e3cfbe",
   "metadata": {},
   "source": [
    "## Total expenses of category - Lifestyle - AC"
   ]
  },
  {
   "cell_type": "code",
   "execution_count": 23,
   "id": "8ecaabb6",
   "metadata": {},
   "outputs": [
    {
     "name": "stdout",
     "output_type": "stream",
     "text": [
      "Total expense in AC recharge category:  400.0\n"
     ]
    }
   ],
   "source": [
    "total_AC_recharge_expenses = AC_recharge_expenses['Amount'].sum()\n",
    "print(\"Total expense in AC recharge category: \", total_AC_recharge_expenses)\n"
   ]
  },
  {
   "cell_type": "markdown",
   "id": "eaff102e",
   "metadata": {},
   "source": [
    "## Mean of expenses by AC in Lifestyle category\n"
   ]
  },
  {
   "cell_type": "code",
   "execution_count": 24,
   "id": "c4918b1d",
   "metadata": {},
   "outputs": [
    {
     "name": "stdout",
     "output_type": "stream",
     "text": [
      "Average expense in AC recharge category:  57.142857142857146\n"
     ]
    }
   ],
   "source": [
    "avg_AC_expenses = AC_recharge_expenses['Amount'].mean()\n",
    "print(\"Average expense in AC recharge category: \", avg_AC_expenses)"
   ]
  },
  {
   "cell_type": "markdown",
   "id": "c42cffb6",
   "metadata": {},
   "source": [
    "## Percentage of my lifestyle spending that goes to recharge the AC"
   ]
  },
  {
   "cell_type": "code",
   "execution_count": 26,
   "id": "42c419ad",
   "metadata": {},
   "outputs": [
    {
     "name": "stdout",
     "output_type": "stream",
     "text": [
      "Percentage of my lifestyle spending that goes to recharge the AC:  73.3810310034856\n"
     ]
    }
   ],
   "source": [
    "percentage_AC_expenses = (total_AC_recharge_expenses / total_lifestyle_expenses) * 100\n",
    "print(\"Percentage of my lifestyle spending that goes to recharge the AC: \", percentage_AC_expenses)"
   ]
  },
  {
   "cell_type": "markdown",
   "id": "e299ddcc",
   "metadata": {},
   "source": [
    "---"
   ]
  },
  {
   "cell_type": "markdown",
   "id": "eb34c4df",
   "metadata": {},
   "source": [
    "## Bar chart for my Food expenses"
   ]
  },
  {
   "cell_type": "code",
   "execution_count": 40,
   "id": "7e889807",
   "metadata": {},
   "outputs": [
    {
     "data": {
      "image/png": "[encoded data removed]",
      "text/plain": [
       "<Figure size 1000x600 with 1 Axes>"
      ]
     },
     "metadata": {},
     "output_type": "display_data"
    }
   ],
   "source": [
    "food_expenses = df[(df['Category']=='🍜 Food') & (df['Income/Expense']=='Exp.')]\n",
    "food_by_date = food_expenses.groupby('Period')['Amount'].sum()\n",
    "\n",
    "# food_expenses\n",
    "food_by_date\n",
    "\n",
    "plt.figure(figsize=(10, 6))\n",
    "food_by_date.plot(kind='bar', color='skyblue')\n",
    "plt.title('Food Expenses by Date')\n",
    "plt.xlabel('Date')\n",
    "plt.ylabel('Amount')\n",
    "plt.xticks(rotation=45 )\n",
    "plt.tight_layout()\n",
    "# plt.show()"
   ]
  },
  {
   "cell_type": "markdown",
   "id": "0bd000b4",
   "metadata": {},
   "source": [
    "## Bar chart for my Lifestyle expenses"
   ]
  },
  {
   "cell_type": "code",
   "execution_count": 45,
   "id": "7bbde8a5",
   "metadata": {},
   "outputs": [
    {
     "data": {
      "image/png": "[encoded data removed]",
      "text/plain": [
       "<Figure size 1000x600 with 1 Axes>"
      ]
     },
     "metadata": {},
     "output_type": "display_data"
    }
   ],
   "source": [
    "lifestyle_expenses = df[(df['Category']=='Lifestyle') & (df['Income/Expense']=='Exp.')]\n",
    "lifestyle_by_date = lifestyle_expenses.groupby('Period')['Amount'].sum()\n",
    "\n",
    "# food_expenses\n",
    "# food_by_date\n",
    "\n",
    "plt.figure(figsize=(10, 6))\n",
    "lifestyle_by_date.plot(kind='bar', color='skyblue')\n",
    "plt.title('Food Expenses by Date')\n",
    "plt.xlabel('Date')\n",
    "plt.ylabel('Amount')\n",
    "plt.xticks(rotation=45 )\n",
    "plt.tight_layout()\n",
    "# plt.show()"
   ]
  },
  {
   "cell_type": "markdown",
   "id": "e68064a9",
   "metadata": {},
   "source": [
    "## Comparison between Lifestyle and Food expenses"
   ]
  },
  {
   "cell_type": "code",
   "execution_count": 47,
   "id": "c67826a7",
   "metadata": {},
   "outputs": [
    {
     "data": {
      "image/png": "[encoded data removed]",
      "text/plain": [
       "<Figure size 1000x600 with 1 Axes>"
      ]
     },
     "metadata": {},
     "output_type": "display_data"
    }
   ],
   "source": [
    "lifestyle_expenses = df[(df['Category']=='Lifestyle') & (df['Income/Expense']=='Exp.')]\n",
    "lifestyle_by_date = lifestyle_expenses.groupby('Period')['Amount'].sum()\n",
    "\n",
    "# food_expenses\n",
    "# food_by_date\n",
    "\n",
    "plt.figure(figsize=(10, 6))\n",
    "food_by_date.plot(kind='bar', color='skyblue')\n",
    "lifestyle_by_date.plot(kind='bar', color='green')\n",
    "plt.title('Food Expenses by Date')\n",
    "plt.xlabel('Date')\n",
    "plt.ylabel('Amount')\n",
    "plt.xticks(rotation=45 )\n",
    "plt.tight_layout()\n",
    "# plt.show()"
   ]
  },
  {
   "cell_type": "markdown",
   "id": "d0731507",
   "metadata": {},
   "source": [
    "## 📊 July Expense Summary"
   ]
  },
  {
   "cell_type": "code",
   "execution_count": 61,
   "id": "6ee4366c",
   "metadata": {},
   "outputs": [
    {
     "name": "stdout",
     "output_type": "stream",
     "text": [
      "Category\n",
      "🍜 Food     1535.0\n",
      "College    1402.0\n",
      "Other       999.0\n",
      "Name: Amount, dtype: float64\n"
     ]
    }
   ],
   "source": [
    "top_categories = df[df[\"Income/Expense\"] == \"Exp.\"].groupby(\"Category\")[\"Amount\"].sum().sort_values(ascending=False).head(3)\n",
    "print(top_categories)\n"
   ]
  },
  {
   "cell_type": "code",
   "execution_count": 62,
   "id": "fe97f87a",
   "metadata": {},
   "outputs": [
    {
     "name": "stdout",
     "output_type": "stream",
     "text": [
      "----- Expense Summary: July 2025 -----\n",
      "Total expenses:  5823.1\n",
      "Average expense:  83.18714285714286\n",
      "Median expense:  28.0\n",
      "Minimum expense:  1.0\n",
      "Maximum expense:  1200.0\n",
      "\n",
      "Biggest food expense day:  15-07-2025\n",
      "            Amount spent: ₹364.00\n",
      "\n",
      "Top 3 categories by total spend:\n",
      "Category\n",
      "🍜 Food     1535.0\n",
      "College    1402.0\n",
      "Other       999.0\n",
      "Name: Amount, dtype: float64\n"
     ]
    }
   ],
   "source": [
    "print(\"----- Expense Summary: July 2025 -----\")\n",
    "print(\"Total expenses: \", total_expenses)\n",
    "print(\"Average expense: \", average_expense)\n",
    "print(\"Median expense: \", median_expense)\n",
    "print(\"Minimum expense: \", minimum_expense)\n",
    "print(\"Maximum expense: \", maximum_expense)\n",
    "print()\n",
    "print(\"Biggest food expense day: \", food_by_date.idxmax())\n",
    "print(f\"            Amount spent: ₹{food_by_date.max():.2f}\")\n",
    "print()\n",
    "print(\"Top 3 categories by total spend:\")\n",
    "print(top_categories)"
   ]
  },
  {
   "cell_type": "markdown",
   "id": "7be10b8e",
   "metadata": {},
   "source": [
    "## Who, What, When and Why"
   ]
  },
  {
   "cell_type": "code",
   "execution_count": 65,
   "id": "37ac3d33",
   "metadata": {},
   "outputs": [
    {
     "name": "stderr",
     "output_type": "stream",
     "text": [
      "C:\\Users\\kprah\\AppData\\Roaming\\Python\\Python313\\site-packages\\IPython\\core\\pylabtools.py:170: UserWarning: Glyph 127836 (\\N{STEAMING BOWL}) missing from font(s) DejaVu Sans.\n",
      "  fig.canvas.print_figure(bytes_io, **kw)\n",
      "C:\\Users\\kprah\\AppData\\Roaming\\Python\\Python313\\site-packages\\IPython\\core\\pylabtools.py:170: UserWarning: Glyph 127873 (\\N{WRAPPED PRESENT}) missing from font(s) DejaVu Sans.\n",
      "  fig.canvas.print_figure(bytes_io, **kw)\n",
      "C:\\Users\\kprah\\AppData\\Roaming\\Python\\Python313\\site-packages\\IPython\\core\\pylabtools.py:170: UserWarning: Glyph 128108 (\\N{TWO MEN HOLDING HANDS}) missing from font(s) DejaVu Sans.\n",
      "  fig.canvas.print_figure(bytes_io, **kw)\n",
      "C:\\Users\\kprah\\AppData\\Roaming\\Python\\Python313\\site-packages\\IPython\\core\\pylabtools.py:170: UserWarning: Glyph 127995 (\\N{EMOJI MODIFIER FITZPATRICK TYPE-1-2}) missing from font(s) DejaVu Sans.\n",
      "  fig.canvas.print_figure(bytes_io, **kw)\n",
      "C:\\Users\\kprah\\AppData\\Roaming\\Python\\Python313\\site-packages\\IPython\\core\\pylabtools.py:170: UserWarning: Glyph 128132 (\\N{LIPSTICK}) missing from font(s) DejaVu Sans.\n",
      "  fig.canvas.print_figure(bytes_io, **kw)\n",
      "C:\\Users\\kprah\\AppData\\Roaming\\Python\\Python313\\site-packages\\IPython\\core\\pylabtools.py:170: UserWarning: Glyph 128217 (\\N{ORANGE BOOK}) missing from font(s) DejaVu Sans.\n",
      "  fig.canvas.print_figure(bytes_io, **kw)\n",
      "C:\\Users\\kprah\\AppData\\Roaming\\Python\\Python313\\site-packages\\IPython\\core\\pylabtools.py:170: UserWarning: Glyph 128662 (\\N{ONCOMING TAXI}) missing from font(s) DejaVu Sans.\n",
      "  fig.canvas.print_figure(bytes_io, **kw)\n",
      "C:\\Users\\kprah\\AppData\\Roaming\\Python\\Python313\\site-packages\\IPython\\core\\pylabtools.py:170: UserWarning: Glyph 129496 (\\N{PERSON IN LOTUS POSITION}) missing from font(s) DejaVu Sans.\n",
      "  fig.canvas.print_figure(bytes_io, **kw)\n",
      "C:\\Users\\kprah\\AppData\\Roaming\\Python\\Python313\\site-packages\\IPython\\core\\pylabtools.py:170: UserWarning: Glyph 127996 (\\N{EMOJI MODIFIER FITZPATRICK TYPE-3}) missing from font(s) DejaVu Sans.\n",
      "  fig.canvas.print_figure(bytes_io, **kw)\n"
     ]
    },
    {
     "data": {
      "image/png": "[encoded data removed]",
      "text/plain": [
       "<Figure size 800x800 with 1 Axes>"
      ]
     },
     "metadata": {},
     "output_type": "display_data"
    }
   ],
   "source": [
    "category_sum = df[df[\"Income/Expense\"] == \"Exp.\"].groupby(\"Category\")[\"Amount\"].sum()\n",
    "category_sum.plot.pie(autopct = '%.1f%%' , figsize=(8, 8), title=\"Expense Distribution by Category\")\n",
    "plt.ylabel(\"\")\n",
    "plt.show()"
   ]
  },
  {
   "cell_type": "code",
   "execution_count": 66,
   "id": "654f787c",
   "metadata": {},
   "outputs": [],
   "source": [
    "category_sum.to_csv('expense_distribution_by_category.csv')"
   ]
  }
 ],
 "metadata": {
  "kernelspec": {
   "display_name": "Python 3",
   "language": "python",
   "name": "python3"
  },
  "language_info": {
   "codemirror_mode": {
    "name": "ipython",
    "version": 3
   },
   "file_extension": ".py",
   "mimetype": "text/x-python",
   "name": "python",
   "nbconvert_exporter": "python",
   "pygments_lexer": "ipython3",
   "version": "3.13.5"
  }
 },
 "nbformat": 4,
 "nbformat_minor": 5
}
